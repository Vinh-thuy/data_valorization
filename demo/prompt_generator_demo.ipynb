{
  "nbformat": 4,
  "nbformat_minor": 0,
  "metadata": {
    "colab": {
      "provenance": [],
      "authorship_tag": "ABX9TyMD6cWubemgAchEqwyXu0EK",
      "include_colab_link": true
    },
    "kernelspec": {
      "name": "python3",
      "display_name": "Python 3"
    },
    "language_info": {
      "name": "python"
    }
  },
  "cells": [
    {
      "cell_type": "markdown",
      "metadata": {
        "id": "view-in-github",
        "colab_type": "text"
      },
      "source": [
        "<a href=\"https://colab.research.google.com/github/Vinh-thuy/data_valorization/blob/main/demo/prompt_generator_demo.ipynb\" target=\"_parent\"><img src=\"https://colab.research.google.com/assets/colab-badge.svg\" alt=\"Open In Colab\"/></a>"
      ]
    },
    {
      "cell_type": "code",
      "source": [
        "#@title Connexion Google Drive {display-mode: \"form\"}\n",
        "\n",
        "from google.colab import drive\n",
        "\n",
        "drive.mount('/content/gdrive/', force_remount=True)\n",
        "\n",
        "%cd /content/gdrive/MyDrive/P4T/google_colab/demo/\n"
      ],
      "metadata": {
        "colab": {
          "base_uri": "https://localhost:8080/"
        },
        "id": "9aA3ViSABGHV",
        "outputId": "7206da17-3b62-42b6-a748-c119cc282ca6"
      },
      "execution_count": 1,
      "outputs": [
        {
          "output_type": "stream",
          "name": "stdout",
          "text": [
            "Mounted at /content/gdrive/\n",
            "/content/gdrive/MyDrive/P4T/google_colab/demo\n"
          ]
        }
      ]
    },
    {
      "cell_type": "code",
      "execution_count": 156,
      "metadata": {
        "id": "sbmUr6SeA40j"
      },
      "outputs": [],
      "source": [
        "import pandas as pd \n",
        "review_summary=pd.read_csv('/content/gdrive/MyDrive/P4T/google_colab/demo/review_summary.csv')"
      ]
    },
    {
      "cell_type": "code",
      "source": [
        "#@title Construction de la connexion à la base PostgreSQL {display-mode: \"form\"}\n",
        "\n",
        "from postgres import postgresQuery\n",
        "from utilities import DB_HOSTNAME,DB_PORT, DB_NAME, DB_USER, DB_PWD, PG_COL_TO_CLEAN_TABLE_RESTAURANT\n",
        "pg = postgresQuery(DB_HOSTNAME, DB_PORT, DB_NAME, DB_USER, DB_PWD)"
      ],
      "metadata": {
        "id": "Uwu1TzFoBOt2"
      },
      "execution_count": 6,
      "outputs": []
    },
    {
      "cell_type": "code",
      "source": [
        "#@title Récupération des tables : restaurant {display-mode: \"form\"}\n",
        "city = 'Paris'\n",
        "\n",
        "sql_query_1 = \"select *  from restaurant r2  where r2.adress_city  = '\" + city + \"'\"\n",
        "sql_query_2 = \"select r1.*, r2.review_id as review_id, r2.reviews_data as reviews_data from restaurant r1, review r2  where r1.restaurant_id = r2.restaurant_id and r1.adress_city  = '\" + city + \"'\"\n",
        "\n",
        "\n",
        "liste_restaurant = pg.query_db(sql_query_1)\n",
        "liste_restaurant_review = pg.query_db(sql_query_2)\n",
        "\n",
        "\n",
        "liste_restaurant['created_at'] = pd.to_datetime(liste_restaurant['created_at']).dt.normalize()\n",
        "\n",
        "liste_restaurant_review['created_at'] = pd.to_datetime(liste_restaurant_review['created_at']).dt.normalize()"
      ],
      "metadata": {
        "id": "XPn0G9GzBZsg"
      },
      "execution_count": 16,
      "outputs": []
    },
    {
      "cell_type": "code",
      "source": [
        "mapping_restaurant_review = liste_restaurant_review[['review_id', 'restaurant_id', 'criteria']]"
      ],
      "metadata": {
        "id": "g55Rd39dD71j"
      },
      "execution_count": 19,
      "outputs": []
    },
    {
      "cell_type": "code",
      "source": [
        "mapping_restaurant_review_criteriaNotNull = mapping_restaurant_review[mapping_restaurant_review.review_id.isin(mapping_restaurant_review.dropna(how='any',axis=0).review_id)]"
      ],
      "metadata": {
        "id": "UJKNBR-7HCTx"
      },
      "execution_count": 43,
      "outputs": []
    },
    {
      "cell_type": "code",
      "source": [
        "mapping_restaurant_review_criteriaNotNull.criteria.iloc[0]"
      ],
      "metadata": {
        "colab": {
          "base_uri": "https://localhost:8080/",
          "height": 70
        },
        "id": "ZxNM6GDTHhRx",
        "outputId": "96214053-f2c1-4234-9c34-afd41fa00bd8"
      },
      "execution_count": 47,
      "outputs": [
        {
          "output_type": "execute_result",
          "data": {
            "text/plain": [
              "\"['Services de restauration : Desserts', 'Offre : Bière', 'Services de restauration : Dîner', 'Services de restauration : Déjeuner', 'Services disponibles : Repas sur place', 'Offre : Produits sains', 'Services : Toilettes', 'Offre : Cafés', 'Offre : Alcools', 'Services de restauration : Traiteur', 'Ambiance : Décontracté', 'Offre : Cocktails et apéritifs', 'Services disponibles : Livraison', 'Offre : Vin', 'Ambiance : Chaleureux', 'Offre : Spiritueux', 'Planning : Réservations acceptées', 'Accessibilité : Parking accessible en fauteuil roulant']\""
            ],
            "application/vnd.google.colaboratory.intrinsic+json": {
              "type": "string"
            }
          },
          "metadata": {},
          "execution_count": 47
        }
      ]
    },
    {
      "cell_type": "code",
      "source": [
        "#@title Load GPT Extraction NLP CLOUD depuis Google Drive : review_summary_split {display-mode: \"form\"}\n",
        "\n",
        "import pandas as pd \n",
        "review_summary_split=pd.read_csv('/content/gdrive/MyDrive/P4T/google_colab/demo/review_summary_split.csv')  \n",
        "review_summary_split.head(1)"
      ],
      "metadata": {
        "colab": {
          "base_uri": "https://localhost:8080/",
          "height": 81
        },
        "id": "h2iiUzPsHhOd",
        "outputId": "b6a7ae05-19ca-4dd6-9af3-7b53f47bc07e"
      },
      "execution_count": 116,
      "outputs": [
        {
          "output_type": "execute_result",
          "data": {
            "text/plain": [
              "   Unnamed: 0                           keyphrase_extract_review  review_id  \\\n",
              "0           0  ['1', ' Pâtes fraîches délicieuses et savoureu...      66347   \n",
              "\n",
              "  review_category           created_at  \n",
              "0  review_positif  2023-01-10 09:04:17  "
            ],
            "text/html": [
              "\n",
              "  <div id=\"df-e5b0a347-e11c-461c-9674-bdbd8a412917\">\n",
              "    <div class=\"colab-df-container\">\n",
              "      <div>\n",
              "<style scoped>\n",
              "    .dataframe tbody tr th:only-of-type {\n",
              "        vertical-align: middle;\n",
              "    }\n",
              "\n",
              "    .dataframe tbody tr th {\n",
              "        vertical-align: top;\n",
              "    }\n",
              "\n",
              "    .dataframe thead th {\n",
              "        text-align: right;\n",
              "    }\n",
              "</style>\n",
              "<table border=\"1\" class=\"dataframe\">\n",
              "  <thead>\n",
              "    <tr style=\"text-align: right;\">\n",
              "      <th></th>\n",
              "      <th>Unnamed: 0</th>\n",
              "      <th>keyphrase_extract_review</th>\n",
              "      <th>review_id</th>\n",
              "      <th>review_category</th>\n",
              "      <th>created_at</th>\n",
              "    </tr>\n",
              "  </thead>\n",
              "  <tbody>\n",
              "    <tr>\n",
              "      <th>0</th>\n",
              "      <td>0</td>\n",
              "      <td>['1', ' Pâtes fraîches délicieuses et savoureu...</td>\n",
              "      <td>66347</td>\n",
              "      <td>review_positif</td>\n",
              "      <td>2023-01-10 09:04:17</td>\n",
              "    </tr>\n",
              "  </tbody>\n",
              "</table>\n",
              "</div>\n",
              "      <button class=\"colab-df-convert\" onclick=\"convertToInteractive('df-e5b0a347-e11c-461c-9674-bdbd8a412917')\"\n",
              "              title=\"Convert this dataframe to an interactive table.\"\n",
              "              style=\"display:none;\">\n",
              "        \n",
              "  <svg xmlns=\"http://www.w3.org/2000/svg\" height=\"24px\"viewBox=\"0 0 24 24\"\n",
              "       width=\"24px\">\n",
              "    <path d=\"M0 0h24v24H0V0z\" fill=\"none\"/>\n",
              "    <path d=\"M18.56 5.44l.94 2.06.94-2.06 2.06-.94-2.06-.94-.94-2.06-.94 2.06-2.06.94zm-11 1L8.5 8.5l.94-2.06 2.06-.94-2.06-.94L8.5 2.5l-.94 2.06-2.06.94zm10 10l.94 2.06.94-2.06 2.06-.94-2.06-.94-.94-2.06-.94 2.06-2.06.94z\"/><path d=\"M17.41 7.96l-1.37-1.37c-.4-.4-.92-.59-1.43-.59-.52 0-1.04.2-1.43.59L10.3 9.45l-7.72 7.72c-.78.78-.78 2.05 0 2.83L4 21.41c.39.39.9.59 1.41.59.51 0 1.02-.2 1.41-.59l7.78-7.78 2.81-2.81c.8-.78.8-2.07 0-2.86zM5.41 20L4 18.59l7.72-7.72 1.47 1.35L5.41 20z\"/>\n",
              "  </svg>\n",
              "      </button>\n",
              "      \n",
              "  <style>\n",
              "    .colab-df-container {\n",
              "      display:flex;\n",
              "      flex-wrap:wrap;\n",
              "      gap: 12px;\n",
              "    }\n",
              "\n",
              "    .colab-df-convert {\n",
              "      background-color: #E8F0FE;\n",
              "      border: none;\n",
              "      border-radius: 50%;\n",
              "      cursor: pointer;\n",
              "      display: none;\n",
              "      fill: #1967D2;\n",
              "      height: 32px;\n",
              "      padding: 0 0 0 0;\n",
              "      width: 32px;\n",
              "    }\n",
              "\n",
              "    .colab-df-convert:hover {\n",
              "      background-color: #E2EBFA;\n",
              "      box-shadow: 0px 1px 2px rgba(60, 64, 67, 0.3), 0px 1px 3px 1px rgba(60, 64, 67, 0.15);\n",
              "      fill: #174EA6;\n",
              "    }\n",
              "\n",
              "    [theme=dark] .colab-df-convert {\n",
              "      background-color: #3B4455;\n",
              "      fill: #D2E3FC;\n",
              "    }\n",
              "\n",
              "    [theme=dark] .colab-df-convert:hover {\n",
              "      background-color: #434B5C;\n",
              "      box-shadow: 0px 1px 3px 1px rgba(0, 0, 0, 0.15);\n",
              "      filter: drop-shadow(0px 1px 2px rgba(0, 0, 0, 0.3));\n",
              "      fill: #FFFFFF;\n",
              "    }\n",
              "  </style>\n",
              "\n",
              "      <script>\n",
              "        const buttonEl =\n",
              "          document.querySelector('#df-e5b0a347-e11c-461c-9674-bdbd8a412917 button.colab-df-convert');\n",
              "        buttonEl.style.display =\n",
              "          google.colab.kernel.accessAllowed ? 'block' : 'none';\n",
              "\n",
              "        async function convertToInteractive(key) {\n",
              "          const element = document.querySelector('#df-e5b0a347-e11c-461c-9674-bdbd8a412917');\n",
              "          const dataTable =\n",
              "            await google.colab.kernel.invokeFunction('convertToInteractive',\n",
              "                                                     [key], {});\n",
              "          if (!dataTable) return;\n",
              "\n",
              "          const docLinkHtml = 'Like what you see? Visit the ' +\n",
              "            '<a target=\"_blank\" href=https://colab.research.google.com/notebooks/data_table.ipynb>data table notebook</a>'\n",
              "            + ' to learn more about interactive tables.';\n",
              "          element.innerHTML = '';\n",
              "          dataTable['output_type'] = 'display_data';\n",
              "          await google.colab.output.renderOutput(dataTable, element);\n",
              "          const docLink = document.createElement('div');\n",
              "          docLink.innerHTML = docLinkHtml;\n",
              "          element.appendChild(docLink);\n",
              "        }\n",
              "      </script>\n",
              "    </div>\n",
              "  </div>\n",
              "  "
            ]
          },
          "metadata": {},
          "execution_count": 116
        }
      ]
    },
    {
      "cell_type": "code",
      "source": [
        "df = review_summary_split\n",
        "df2 = mapping_restaurant_review_criteriaNotNull\n",
        "\n",
        "df3 = df.merge(df2, on='review_id', how='left')\n",
        "df3.head(1)"
      ],
      "metadata": {
        "colab": {
          "base_uri": "https://localhost:8080/",
          "height": 81
        },
        "id": "I7vImTJPIcOC",
        "outputId": "6afb14c7-b38f-4f4a-9828-603b376a6fb6"
      },
      "execution_count": 119,
      "outputs": [
        {
          "output_type": "execute_result",
          "data": {
            "text/plain": [
              "   Unnamed: 0                           keyphrase_extract_review  review_id  \\\n",
              "0           0  ['1', ' Pâtes fraîches délicieuses et savoureu...      66347   \n",
              "\n",
              "  review_category           created_at  restaurant_id  \\\n",
              "0  review_positif  2023-01-10 09:04:17            835   \n",
              "\n",
              "                                            criteria  \n",
              "0  ['Offre : Cocktails et apéritifs', 'Services :...  "
            ],
            "text/html": [
              "\n",
              "  <div id=\"df-586d1cdd-be57-49f1-b268-b1e77ba4a37d\">\n",
              "    <div class=\"colab-df-container\">\n",
              "      <div>\n",
              "<style scoped>\n",
              "    .dataframe tbody tr th:only-of-type {\n",
              "        vertical-align: middle;\n",
              "    }\n",
              "\n",
              "    .dataframe tbody tr th {\n",
              "        vertical-align: top;\n",
              "    }\n",
              "\n",
              "    .dataframe thead th {\n",
              "        text-align: right;\n",
              "    }\n",
              "</style>\n",
              "<table border=\"1\" class=\"dataframe\">\n",
              "  <thead>\n",
              "    <tr style=\"text-align: right;\">\n",
              "      <th></th>\n",
              "      <th>Unnamed: 0</th>\n",
              "      <th>keyphrase_extract_review</th>\n",
              "      <th>review_id</th>\n",
              "      <th>review_category</th>\n",
              "      <th>created_at</th>\n",
              "      <th>restaurant_id</th>\n",
              "      <th>criteria</th>\n",
              "    </tr>\n",
              "  </thead>\n",
              "  <tbody>\n",
              "    <tr>\n",
              "      <th>0</th>\n",
              "      <td>0</td>\n",
              "      <td>['1', ' Pâtes fraîches délicieuses et savoureu...</td>\n",
              "      <td>66347</td>\n",
              "      <td>review_positif</td>\n",
              "      <td>2023-01-10 09:04:17</td>\n",
              "      <td>835</td>\n",
              "      <td>['Offre : Cocktails et apéritifs', 'Services :...</td>\n",
              "    </tr>\n",
              "  </tbody>\n",
              "</table>\n",
              "</div>\n",
              "      <button class=\"colab-df-convert\" onclick=\"convertToInteractive('df-586d1cdd-be57-49f1-b268-b1e77ba4a37d')\"\n",
              "              title=\"Convert this dataframe to an interactive table.\"\n",
              "              style=\"display:none;\">\n",
              "        \n",
              "  <svg xmlns=\"http://www.w3.org/2000/svg\" height=\"24px\"viewBox=\"0 0 24 24\"\n",
              "       width=\"24px\">\n",
              "    <path d=\"M0 0h24v24H0V0z\" fill=\"none\"/>\n",
              "    <path d=\"M18.56 5.44l.94 2.06.94-2.06 2.06-.94-2.06-.94-.94-2.06-.94 2.06-2.06.94zm-11 1L8.5 8.5l.94-2.06 2.06-.94-2.06-.94L8.5 2.5l-.94 2.06-2.06.94zm10 10l.94 2.06.94-2.06 2.06-.94-2.06-.94-.94-2.06-.94 2.06-2.06.94z\"/><path d=\"M17.41 7.96l-1.37-1.37c-.4-.4-.92-.59-1.43-.59-.52 0-1.04.2-1.43.59L10.3 9.45l-7.72 7.72c-.78.78-.78 2.05 0 2.83L4 21.41c.39.39.9.59 1.41.59.51 0 1.02-.2 1.41-.59l7.78-7.78 2.81-2.81c.8-.78.8-2.07 0-2.86zM5.41 20L4 18.59l7.72-7.72 1.47 1.35L5.41 20z\"/>\n",
              "  </svg>\n",
              "      </button>\n",
              "      \n",
              "  <style>\n",
              "    .colab-df-container {\n",
              "      display:flex;\n",
              "      flex-wrap:wrap;\n",
              "      gap: 12px;\n",
              "    }\n",
              "\n",
              "    .colab-df-convert {\n",
              "      background-color: #E8F0FE;\n",
              "      border: none;\n",
              "      border-radius: 50%;\n",
              "      cursor: pointer;\n",
              "      display: none;\n",
              "      fill: #1967D2;\n",
              "      height: 32px;\n",
              "      padding: 0 0 0 0;\n",
              "      width: 32px;\n",
              "    }\n",
              "\n",
              "    .colab-df-convert:hover {\n",
              "      background-color: #E2EBFA;\n",
              "      box-shadow: 0px 1px 2px rgba(60, 64, 67, 0.3), 0px 1px 3px 1px rgba(60, 64, 67, 0.15);\n",
              "      fill: #174EA6;\n",
              "    }\n",
              "\n",
              "    [theme=dark] .colab-df-convert {\n",
              "      background-color: #3B4455;\n",
              "      fill: #D2E3FC;\n",
              "    }\n",
              "\n",
              "    [theme=dark] .colab-df-convert:hover {\n",
              "      background-color: #434B5C;\n",
              "      box-shadow: 0px 1px 3px 1px rgba(0, 0, 0, 0.15);\n",
              "      filter: drop-shadow(0px 1px 2px rgba(0, 0, 0, 0.3));\n",
              "      fill: #FFFFFF;\n",
              "    }\n",
              "  </style>\n",
              "\n",
              "      <script>\n",
              "        const buttonEl =\n",
              "          document.querySelector('#df-586d1cdd-be57-49f1-b268-b1e77ba4a37d button.colab-df-convert');\n",
              "        buttonEl.style.display =\n",
              "          google.colab.kernel.accessAllowed ? 'block' : 'none';\n",
              "\n",
              "        async function convertToInteractive(key) {\n",
              "          const element = document.querySelector('#df-586d1cdd-be57-49f1-b268-b1e77ba4a37d');\n",
              "          const dataTable =\n",
              "            await google.colab.kernel.invokeFunction('convertToInteractive',\n",
              "                                                     [key], {});\n",
              "          if (!dataTable) return;\n",
              "\n",
              "          const docLinkHtml = 'Like what you see? Visit the ' +\n",
              "            '<a target=\"_blank\" href=https://colab.research.google.com/notebooks/data_table.ipynb>data table notebook</a>'\n",
              "            + ' to learn more about interactive tables.';\n",
              "          element.innerHTML = '';\n",
              "          dataTable['output_type'] = 'display_data';\n",
              "          await google.colab.output.renderOutput(dataTable, element);\n",
              "          const docLink = document.createElement('div');\n",
              "          docLink.innerHTML = docLinkHtml;\n",
              "          element.appendChild(docLink);\n",
              "        }\n",
              "      </script>\n",
              "    </div>\n",
              "  </div>\n",
              "  "
            ]
          },
          "metadata": {},
          "execution_count": 119
        }
      ]
    },
    {
      "cell_type": "code",
      "source": [
        "#@title Fonction : clean_text (text) {display-mode: \"form\"}\n",
        "\n",
        "def clean_text(text):\n",
        "  import re\n",
        "\n",
        "  #text = re.sub(r'\\n\\d', ' ', text).replace(\"\\nspoilers\",\"\").replace(\"\\n\",\"\")\n",
        "  cleanedtext = []\n",
        "  for item in nlp(text):\n",
        "      if not item.is_stop:\n",
        "          cleanedtext.append(item.text)\n",
        "  text = ' '.join(cleanedtext)\n",
        "\n",
        "  #text = re.sub(r\"\\'\", ' ', text).replace(\"\\nspoilers\",\"\").replace(\"\\n\",\"\")\n",
        "  #text = re.sub(r\" . \", ' ', text).replace(\"\",\"\").replace(\"\",\"\")\n",
        "  #text = re.sub(r\",. \", ', ', text).replace(\"\",\"\").replace(\"\",\"\")\n",
        "\n",
        "  lst = text.split(\",\") \n",
        "  \n",
        "  return lst\n"
      ],
      "metadata": {
        "id": "uOQrFDmJIxVB"
      },
      "execution_count": 320,
      "outputs": []
    },
    {
      "cell_type": "code",
      "source": [
        "df3.keyphrase_extract_review.iloc[0]"
      ],
      "metadata": {
        "colab": {
          "base_uri": "https://localhost:8080/",
          "height": 35
        },
        "id": "POyNhGorIxPL",
        "outputId": "e8acdf89-6da6-48c1-dd0f-a01813fe94b9"
      },
      "execution_count": 120,
      "outputs": [
        {
          "output_type": "execute_result",
          "data": {
            "text/plain": [
              "\"['1', ' Pâtes fraîches délicieuses et savoureuses', '  ', ' Portions généreuses', '  ', ' Tiramisu à tomber', '  ', ' Service dynamique et souriant', '  ', ' Garniture généreuse et variée sur les pizzas', '  ', ' Accueil agréable.']\""
            ],
            "application/vnd.google.colaboratory.intrinsic+json": {
              "type": "string"
            }
          },
          "metadata": {},
          "execution_count": 120
        }
      ]
    },
    {
      "cell_type": "code",
      "source": [
        "clean_text(df3.keyphrase_extract_review.iloc[3])"
      ],
      "metadata": {
        "colab": {
          "base_uri": "https://localhost:8080/"
        },
        "id": "io5HmGqxIxSA",
        "outputId": "4ccf90fa-fbf3-467f-a52e-5ef397848865"
      },
      "execution_count": 121,
      "outputs": [
        {
          "output_type": "execute_result",
          "data": {
            "text/plain": [
              "['[Pizza napolitaine excellente',\n",
              " 'Service excellent',\n",
              " 'Pâtes carbonara excellentes',\n",
              " 'Ambiance bienvenue',\n",
              " 'Nourriture italienne rafraîchissante  ]']"
            ]
          },
          "metadata": {},
          "execution_count": 121
        }
      ]
    },
    {
      "cell_type": "code",
      "source": [
        "clean_text(df3.keyphrase_extract_review.iloc[3])"
      ],
      "metadata": {
        "colab": {
          "base_uri": "https://localhost:8080/"
        },
        "id": "n3dLCSNWSp2d",
        "outputId": "89ea8608-317a-497f-c6ff-e0387183d251"
      },
      "execution_count": 131,
      "outputs": [
        {
          "output_type": "execute_result",
          "data": {
            "text/plain": [
              "['[ Pizza napolitaine excellente ',\n",
              " ' Service excellent ',\n",
              " ' Pâtes carbonara excellentes ',\n",
              " ' Ambiance bienvenue ',\n",
              " ' Nourriture italienne rafraîchissante   ]']"
            ]
          },
          "metadata": {},
          "execution_count": 131
        }
      ]
    },
    {
      "cell_type": "code",
      "source": [
        "df = review_summary\n",
        "df2 = mapping_restaurant_review_criteriaNotNull\n",
        "df3 = df.merge(df2, on='review_id', how='left')\n",
        "df3['kpe_list'] = \"\"\n",
        "df3['criteria_list'] = \"\""
      ],
      "metadata": {
        "id": "elehXE4qULle"
      },
      "execution_count": 134,
      "outputs": []
    },
    {
      "cell_type": "code",
      "source": [
        "lst_kpe = clean_text(df3.keyphrase_extract_review.iloc[3])"
      ],
      "metadata": {
        "id": "w8Jz0AwSURfE"
      },
      "execution_count": 135,
      "outputs": []
    },
    {
      "cell_type": "code",
      "source": [
        "df3.kpe_list.append(lst_kpe)"
      ],
      "metadata": {
        "colab": {
          "base_uri": "https://localhost:8080/",
          "height": 312
        },
        "id": "tRTCSQ_bUUmf",
        "outputId": "52537ff5-76bf-4794-c513-5730b325f605"
      },
      "execution_count": 136,
      "outputs": [
        {
          "output_type": "error",
          "ename": "TypeError",
          "evalue": "ignored",
          "traceback": [
            "\u001b[0;31m---------------------------------------------------------------------------\u001b[0m",
            "\u001b[0;31mTypeError\u001b[0m                                 Traceback (most recent call last)",
            "\u001b[0;32m<ipython-input-136-634b2943d76f>\u001b[0m in \u001b[0;36m<module>\u001b[0;34m\u001b[0m\n\u001b[0;32m----> 1\u001b[0;31m \u001b[0mdf3\u001b[0m\u001b[0;34m.\u001b[0m\u001b[0mkpe_list\u001b[0m\u001b[0;34m.\u001b[0m\u001b[0mappend\u001b[0m\u001b[0;34m(\u001b[0m\u001b[0mlst_kpe\u001b[0m\u001b[0;34m)\u001b[0m\u001b[0;34m\u001b[0m\u001b[0;34m\u001b[0m\u001b[0m\n\u001b[0m",
            "\u001b[0;32m/usr/local/lib/python3.8/dist-packages/pandas/core/series.py\u001b[0m in \u001b[0;36mappend\u001b[0;34m(self, to_append, ignore_index, verify_integrity)\u001b[0m\n\u001b[1;32m   2875\u001b[0m             \u001b[0mmsg\u001b[0m \u001b[0;34m=\u001b[0m \u001b[0;34m\"to_append should be a Series or list/tuple of Series, got DataFrame\"\u001b[0m\u001b[0;34m\u001b[0m\u001b[0;34m\u001b[0m\u001b[0m\n\u001b[1;32m   2876\u001b[0m             \u001b[0;32mraise\u001b[0m \u001b[0mTypeError\u001b[0m\u001b[0;34m(\u001b[0m\u001b[0mmsg\u001b[0m\u001b[0;34m)\u001b[0m\u001b[0;34m\u001b[0m\u001b[0;34m\u001b[0m\u001b[0m\n\u001b[0;32m-> 2877\u001b[0;31m         return concat(\n\u001b[0m\u001b[1;32m   2878\u001b[0m             \u001b[0mto_concat\u001b[0m\u001b[0;34m,\u001b[0m \u001b[0mignore_index\u001b[0m\u001b[0;34m=\u001b[0m\u001b[0mignore_index\u001b[0m\u001b[0;34m,\u001b[0m \u001b[0mverify_integrity\u001b[0m\u001b[0;34m=\u001b[0m\u001b[0mverify_integrity\u001b[0m\u001b[0;34m\u001b[0m\u001b[0;34m\u001b[0m\u001b[0m\n\u001b[1;32m   2879\u001b[0m         )\n",
            "\u001b[0;32m/usr/local/lib/python3.8/dist-packages/pandas/util/_decorators.py\u001b[0m in \u001b[0;36mwrapper\u001b[0;34m(*args, **kwargs)\u001b[0m\n\u001b[1;32m    309\u001b[0m                     \u001b[0mstacklevel\u001b[0m\u001b[0;34m=\u001b[0m\u001b[0mstacklevel\u001b[0m\u001b[0;34m,\u001b[0m\u001b[0;34m\u001b[0m\u001b[0;34m\u001b[0m\u001b[0m\n\u001b[1;32m    310\u001b[0m                 )\n\u001b[0;32m--> 311\u001b[0;31m             \u001b[0;32mreturn\u001b[0m \u001b[0mfunc\u001b[0m\u001b[0;34m(\u001b[0m\u001b[0;34m*\u001b[0m\u001b[0margs\u001b[0m\u001b[0;34m,\u001b[0m \u001b[0;34m**\u001b[0m\u001b[0mkwargs\u001b[0m\u001b[0;34m)\u001b[0m\u001b[0;34m\u001b[0m\u001b[0;34m\u001b[0m\u001b[0m\n\u001b[0m\u001b[1;32m    312\u001b[0m \u001b[0;34m\u001b[0m\u001b[0m\n\u001b[1;32m    313\u001b[0m         \u001b[0;32mreturn\u001b[0m \u001b[0mwrapper\u001b[0m\u001b[0;34m\u001b[0m\u001b[0;34m\u001b[0m\u001b[0m\n",
            "\u001b[0;32m/usr/local/lib/python3.8/dist-packages/pandas/core/reshape/concat.py\u001b[0m in \u001b[0;36mconcat\u001b[0;34m(objs, axis, join, ignore_index, keys, levels, names, verify_integrity, sort, copy)\u001b[0m\n\u001b[1;32m    292\u001b[0m     \u001b[0mValueError\u001b[0m\u001b[0;34m:\u001b[0m \u001b[0mIndexes\u001b[0m \u001b[0mhave\u001b[0m \u001b[0moverlapping\u001b[0m \u001b[0mvalues\u001b[0m\u001b[0;34m:\u001b[0m \u001b[0;34m[\u001b[0m\u001b[0;34m'a'\u001b[0m\u001b[0;34m]\u001b[0m\u001b[0;34m\u001b[0m\u001b[0;34m\u001b[0m\u001b[0m\n\u001b[1;32m    293\u001b[0m     \"\"\"\n\u001b[0;32m--> 294\u001b[0;31m     op = _Concatenator(\n\u001b[0m\u001b[1;32m    295\u001b[0m         \u001b[0mobjs\u001b[0m\u001b[0;34m,\u001b[0m\u001b[0;34m\u001b[0m\u001b[0;34m\u001b[0m\u001b[0m\n\u001b[1;32m    296\u001b[0m         \u001b[0maxis\u001b[0m\u001b[0;34m=\u001b[0m\u001b[0maxis\u001b[0m\u001b[0;34m,\u001b[0m\u001b[0;34m\u001b[0m\u001b[0;34m\u001b[0m\u001b[0m\n",
            "\u001b[0;32m/usr/local/lib/python3.8/dist-packages/pandas/core/reshape/concat.py\u001b[0m in \u001b[0;36m__init__\u001b[0;34m(self, objs, axis, join, keys, levels, names, ignore_index, verify_integrity, copy, sort)\u001b[0m\n\u001b[1;32m    382\u001b[0m                     \u001b[0;34m\"only Series and DataFrame objs are valid\"\u001b[0m\u001b[0;34m\u001b[0m\u001b[0;34m\u001b[0m\u001b[0m\n\u001b[1;32m    383\u001b[0m                 )\n\u001b[0;32m--> 384\u001b[0;31m                 \u001b[0;32mraise\u001b[0m \u001b[0mTypeError\u001b[0m\u001b[0;34m(\u001b[0m\u001b[0mmsg\u001b[0m\u001b[0;34m)\u001b[0m\u001b[0;34m\u001b[0m\u001b[0;34m\u001b[0m\u001b[0m\n\u001b[0m\u001b[1;32m    385\u001b[0m \u001b[0;34m\u001b[0m\u001b[0m\n\u001b[1;32m    386\u001b[0m             \u001b[0mndims\u001b[0m\u001b[0;34m.\u001b[0m\u001b[0madd\u001b[0m\u001b[0;34m(\u001b[0m\u001b[0mobj\u001b[0m\u001b[0;34m.\u001b[0m\u001b[0mndim\u001b[0m\u001b[0;34m)\u001b[0m\u001b[0;34m\u001b[0m\u001b[0;34m\u001b[0m\u001b[0m\n",
            "\u001b[0;31mTypeError\u001b[0m: cannot concatenate object of type '<class 'str'>'; only Series and DataFrame objs are valid"
          ]
        }
      ]
    },
    {
      "cell_type": "code",
      "source": [
        "df3.restaurant_id.unique()"
      ],
      "metadata": {
        "colab": {
          "base_uri": "https://localhost:8080/"
        },
        "id": "LZ57RxEvxejM",
        "outputId": "a9141a0b-fea6-4cb0-ddd4-b1f19eea7aef"
      },
      "execution_count": 185,
      "outputs": [
        {
          "output_type": "execute_result",
          "data": {
            "text/plain": [
              "array([835, 792, 774, 977, 744, 805, 790, 819, 925, 927, 906, 912, 833,\n",
              "       907, 985])"
            ]
          },
          "metadata": {},
          "execution_count": 185
        }
      ]
    },
    {
      "cell_type": "code",
      "source": [
        "df4 = pd.DataFrame()"
      ],
      "metadata": {
        "id": "YYvBnXCpxkbN"
      },
      "execution_count": 186,
      "outputs": []
    },
    {
      "cell_type": "code",
      "source": [
        "\n",
        " \n",
        "# Create the pandas DataFrame with column name is provided explicitly\n",
        "df4 = pd.DataFrame(df3.restaurant_id.unique(), columns=['restaurant_id'])\n",
        " "
      ],
      "metadata": {
        "id": "iqJ5qJCZxp2e"
      },
      "execution_count": 187,
      "outputs": []
    },
    {
      "cell_type": "code",
      "source": [
        "print(df5[df5.restaurant_id == 792].kpe_list.values[0])"
      ],
      "metadata": {
        "colab": {
          "base_uri": "https://localhost:8080/"
        },
        "id": "krWlrOYAxRwM",
        "outputId": "a5e7ec6c-e4e2-4c3d-9808-a0676eb71a34"
      },
      "execution_count": 417,
      "outputs": [
        {
          "output_type": "stream",
          "name": "stdout",
          "text": [
            "['1. Service professionnel et rapide' ' . Pizza de qualité' ' . Prix raisonnables' ' . Très bonne sélection de bières' ' . Ambiance agréable' ' . Emplacement pratique' ' . Personnel aimable et serviable' ' . Options adaptées aux régimes alimentaires spécifiques' ' . Choix variés dans les plats' ' 0. Décor accueillant et confortable.']['1' ' Ambiance conviviale' '  ' ' Variete des plats offerts' '  ' ' Qualite des plats offerts' '  ' ' Prix raisonnables' '  ' ' Service rapide et attentionne' '  ' ' Personnels sympathiques' '  ' ' Agencement adequat' '  ' ' Endroit propre et presentable' '  ' ' Menus saisonniers interessants.']['1. Une ambiance agréable et chaleureuse ' '  . Des plats délicieux et respectant bien la tradition culinaire ' '  . Un personnel accueillant et serviable ' '  . Des tarifs abordables ' '  . Une carte variée et intéressante ' '  . Une décoration originale et soignée ' '  . Des menus variés offrant une bonne sélection de plats ' '  . Un bon équilibre entre le prix et la qualité des produits ' '  . Des plats bien présentés et très frais ' '  0. Une atmosphère conviviale.']['1. Prix honnêtes ' '  . Carte divertissante avec des noms originaux et des petits bisous à Shrek ' '  . Bon repas ' '  . Dîner amusant et original sur une balançoire.'][\"(c'est à dire sans argument d'ordre personnel) \" ' Très bonne nourriture et pizzas' '  ' ' Recommandé' '  ' ' Convives ne sont pas invités à prendre les tables.']['1.' ' Une ambiance divertissante ' ' Des pizzas à la hauteur des attentes ' ' Des prix raisonnables ' ' Une cuisine fraîche et délicieuse ' ' Une variété de pizzas disponibles ' ' Un service rapide et efficace ' ' Des ingrédients de haute qualité ' ' Des options de commande à emporter ' ' Des options végétariennes disponibles ' ''][':-service très rapide' '-personnel sympathique' '-plats délicieux' '-grande variété de plats' '-bonne qualité des plats' '-rapport qualité / prix satisfaisant' '-ambiance agréable' '-espace spacieux' '-emplacement central.']['1' ' Belle déco' ' 2' ' Foccacia et pizzas délicieuses' ' 3' ' Pâte à pizza incroyable' ' 4' ' Service au top' ' 5' ' Bonne ambiance' ' 6' ' Happy Hours' ' 7' ' Afterwork et dîner' '']['1. Ambiance très agréable ' '  . Service très rapide ' '  . Délicieux plats ' '  . Prix abordables ' '  . Service professionnel et amical ' '  . Décor magnifique ' '  . Une variété de boissons et de plats délicieux.']\n"
          ]
        }
      ]
    },
    {
      "cell_type": "code",
      "source": [
        "df = review_summary\n",
        "df2 = mapping_restaurant_review_criteriaNotNull\n",
        "df3 = df.merge(df2, on='review_id', how='left')\n",
        "\n",
        "df4 = pd.DataFrame(df3.restaurant_id.unique(), columns=['restaurant_id'])\n",
        "df4['criteria_list'] = \"[]\"\n",
        "\n",
        "df5 = df3[['restaurant_id', 'criteria']]\n",
        "df5 = df5.drop_duplicates()\n",
        "\n",
        "\n",
        "\n",
        "for (id) in enumerate(df5.restaurant_id):\n",
        "  kpe_list = \"\"\n",
        "\n",
        "  for keyphrase_extract_review in zip(df3[df3.restaurant_id == id[1]].keyphrase_extract_review):\n",
        "    for elt in enumerate(keyphrase_extract_review[0].split(\",\")):\n",
        "      kpe_list = kpe_list + elt[1]\n",
        "  df5.loc[df5[\"restaurant_id\"] == id[1], \"kpe_list\"] = [kpe_list]\n"
      ],
      "metadata": {
        "colab": {
          "base_uri": "https://localhost:8080/",
          "height": 53
        },
        "id": "SZW2gB6SClUN",
        "outputId": "81eab43a-3d91-49ce-dcac-3c1c04bff7ce"
      },
      "execution_count": 409,
      "outputs": [
        {
          "output_type": "execute_result",
          "data": {
            "text/plain": [
              "'\\nfor (id) in enumerate(df5.restaurant_id):\\n  criteria_list = []\\n\\n  for criteria in zip(df5[df5.restaurant_id == id[1]].criteria):\\n    for elt in enumerate(criteria[0].split(\",\")):\\n      criteria_list.append(elt)\\n  df5.loc[df5[\"restaurant_id\"] == id[1], \"criteria_list\"] = [criteria_list]\\n'"
            ],
            "application/vnd.google.colaboratory.intrinsic+json": {
              "type": "string"
            }
          },
          "metadata": {},
          "execution_count": 409
        }
      ]
    },
    {
      "cell_type": "code",
      "source": [
        "df5"
      ],
      "metadata": {
        "colab": {
          "base_uri": "https://localhost:8080/",
          "height": 520
        },
        "id": "ZGZnbCwI867L",
        "outputId": "34bbc183-0eed-48dc-9000-0906d9a63d47"
      },
      "execution_count": 410,
      "outputs": [
        {
          "output_type": "execute_result",
          "data": {
            "text/plain": [
              "    restaurant_id                                           criteria  \\\n",
              "0             835  ['Offre : Cocktails et apéritifs', 'Services :...   \n",
              "1             792  ['Offre : Cocktails et apéritifs', 'Paiements ...   \n",
              "5             774  ['Services de restauration : Places assises', ...   \n",
              "6             977  ['Offre : Cocktails et apéritifs', 'Services :...   \n",
              "8             744  ['Offre : Cocktails et apéritifs', 'Paiements ...   \n",
              "11            805  ['Services disponibles : Livraison sans contac...   \n",
              "13            790  ['Offre : Cocktails et apéritifs', 'Paiements ...   \n",
              "16            819  ['Offre : Cocktails et apéritifs', 'Services :...   \n",
              "21            925  ['Offre : Cocktails et apéritifs', 'Paiements ...   \n",
              "24            927  ['Offre : Cocktails et apéritifs', 'Services :...   \n",
              "30            906  ['Offre : Plats végétaliens', 'Paiements : Pai...   \n",
              "35            912  ['Offre : Cocktails et apéritifs', 'Services d...   \n",
              "40            833  ['Points forts : Toit-terrasse', 'Offre : Cock...   \n",
              "44            907  ['Offre : Cocktails et apéritifs', 'Services d...   \n",
              "45            985  ['Paiements : Paiements mobiles NFC', 'Offre :...   \n",
              "\n",
              "                                             kpe_list  \n",
              "0   ['1. Le service est rapide et amical' ' . La q...  \n",
              "1   ['1. Service professionnel et rapide' ' . Pizz...  \n",
              "5   ['1. Prix raisonnables' ' . Super bon' ' . Sup...  \n",
              "6   ['1. Garçons sympathiques' '  . service rapide...  \n",
              "8   ['1. Plats variés adaptés au menu' '  . Nourri...  \n",
              "11  ['1. Produits de qualité' ' . Tout est fait ma...  \n",
              "13  ['1. Service très long' '  . Ambiance sympathi...  \n",
              "16  ['1' ' Ambiance agréable ' '  ' ' Personnel sy...  \n",
              "21  ['1. Une cuisine italienne traditionnelle et i...  \n",
              "24  ['1. La pizza est savoureuse et bien cuite' ' ...  \n",
              "30  [':- Une pâte à pizza artisanale de qualité' '...  \n",
              "35  ['1. Bel emplacement' ' . Service super sympa'...  \n",
              "40  ['1. Bon service' '  . Offre une portion divis...  \n",
              "44  ['- Service très aimable' ' - Serveur gentil e...  \n",
              "45  ['1 ' ' Cuisine authentique et délicieuse ' ' ...  "
            ],
            "text/html": [
              "\n",
              "  <div id=\"df-a60053f3-46f0-4963-97cd-25910e899362\">\n",
              "    <div class=\"colab-df-container\">\n",
              "      <div>\n",
              "<style scoped>\n",
              "    .dataframe tbody tr th:only-of-type {\n",
              "        vertical-align: middle;\n",
              "    }\n",
              "\n",
              "    .dataframe tbody tr th {\n",
              "        vertical-align: top;\n",
              "    }\n",
              "\n",
              "    .dataframe thead th {\n",
              "        text-align: right;\n",
              "    }\n",
              "</style>\n",
              "<table border=\"1\" class=\"dataframe\">\n",
              "  <thead>\n",
              "    <tr style=\"text-align: right;\">\n",
              "      <th></th>\n",
              "      <th>restaurant_id</th>\n",
              "      <th>criteria</th>\n",
              "      <th>kpe_list</th>\n",
              "    </tr>\n",
              "  </thead>\n",
              "  <tbody>\n",
              "    <tr>\n",
              "      <th>0</th>\n",
              "      <td>835</td>\n",
              "      <td>['Offre : Cocktails et apéritifs', 'Services :...</td>\n",
              "      <td>['1. Le service est rapide et amical' ' . La q...</td>\n",
              "    </tr>\n",
              "    <tr>\n",
              "      <th>1</th>\n",
              "      <td>792</td>\n",
              "      <td>['Offre : Cocktails et apéritifs', 'Paiements ...</td>\n",
              "      <td>['1. Service professionnel et rapide' ' . Pizz...</td>\n",
              "    </tr>\n",
              "    <tr>\n",
              "      <th>5</th>\n",
              "      <td>774</td>\n",
              "      <td>['Services de restauration : Places assises', ...</td>\n",
              "      <td>['1. Prix raisonnables' ' . Super bon' ' . Sup...</td>\n",
              "    </tr>\n",
              "    <tr>\n",
              "      <th>6</th>\n",
              "      <td>977</td>\n",
              "      <td>['Offre : Cocktails et apéritifs', 'Services :...</td>\n",
              "      <td>['1. Garçons sympathiques' '  . service rapide...</td>\n",
              "    </tr>\n",
              "    <tr>\n",
              "      <th>8</th>\n",
              "      <td>744</td>\n",
              "      <td>['Offre : Cocktails et apéritifs', 'Paiements ...</td>\n",
              "      <td>['1. Plats variés adaptés au menu' '  . Nourri...</td>\n",
              "    </tr>\n",
              "    <tr>\n",
              "      <th>11</th>\n",
              "      <td>805</td>\n",
              "      <td>['Services disponibles : Livraison sans contac...</td>\n",
              "      <td>['1. Produits de qualité' ' . Tout est fait ma...</td>\n",
              "    </tr>\n",
              "    <tr>\n",
              "      <th>13</th>\n",
              "      <td>790</td>\n",
              "      <td>['Offre : Cocktails et apéritifs', 'Paiements ...</td>\n",
              "      <td>['1. Service très long' '  . Ambiance sympathi...</td>\n",
              "    </tr>\n",
              "    <tr>\n",
              "      <th>16</th>\n",
              "      <td>819</td>\n",
              "      <td>['Offre : Cocktails et apéritifs', 'Services :...</td>\n",
              "      <td>['1' ' Ambiance agréable ' '  ' ' Personnel sy...</td>\n",
              "    </tr>\n",
              "    <tr>\n",
              "      <th>21</th>\n",
              "      <td>925</td>\n",
              "      <td>['Offre : Cocktails et apéritifs', 'Paiements ...</td>\n",
              "      <td>['1. Une cuisine italienne traditionnelle et i...</td>\n",
              "    </tr>\n",
              "    <tr>\n",
              "      <th>24</th>\n",
              "      <td>927</td>\n",
              "      <td>['Offre : Cocktails et apéritifs', 'Services :...</td>\n",
              "      <td>['1. La pizza est savoureuse et bien cuite' ' ...</td>\n",
              "    </tr>\n",
              "    <tr>\n",
              "      <th>30</th>\n",
              "      <td>906</td>\n",
              "      <td>['Offre : Plats végétaliens', 'Paiements : Pai...</td>\n",
              "      <td>[':- Une pâte à pizza artisanale de qualité' '...</td>\n",
              "    </tr>\n",
              "    <tr>\n",
              "      <th>35</th>\n",
              "      <td>912</td>\n",
              "      <td>['Offre : Cocktails et apéritifs', 'Services d...</td>\n",
              "      <td>['1. Bel emplacement' ' . Service super sympa'...</td>\n",
              "    </tr>\n",
              "    <tr>\n",
              "      <th>40</th>\n",
              "      <td>833</td>\n",
              "      <td>['Points forts : Toit-terrasse', 'Offre : Cock...</td>\n",
              "      <td>['1. Bon service' '  . Offre une portion divis...</td>\n",
              "    </tr>\n",
              "    <tr>\n",
              "      <th>44</th>\n",
              "      <td>907</td>\n",
              "      <td>['Offre : Cocktails et apéritifs', 'Services d...</td>\n",
              "      <td>['- Service très aimable' ' - Serveur gentil e...</td>\n",
              "    </tr>\n",
              "    <tr>\n",
              "      <th>45</th>\n",
              "      <td>985</td>\n",
              "      <td>['Paiements : Paiements mobiles NFC', 'Offre :...</td>\n",
              "      <td>['1 ' ' Cuisine authentique et délicieuse ' ' ...</td>\n",
              "    </tr>\n",
              "  </tbody>\n",
              "</table>\n",
              "</div>\n",
              "      <button class=\"colab-df-convert\" onclick=\"convertToInteractive('df-a60053f3-46f0-4963-97cd-25910e899362')\"\n",
              "              title=\"Convert this dataframe to an interactive table.\"\n",
              "              style=\"display:none;\">\n",
              "        \n",
              "  <svg xmlns=\"http://www.w3.org/2000/svg\" height=\"24px\"viewBox=\"0 0 24 24\"\n",
              "       width=\"24px\">\n",
              "    <path d=\"M0 0h24v24H0V0z\" fill=\"none\"/>\n",
              "    <path d=\"M18.56 5.44l.94 2.06.94-2.06 2.06-.94-2.06-.94-.94-2.06-.94 2.06-2.06.94zm-11 1L8.5 8.5l.94-2.06 2.06-.94-2.06-.94L8.5 2.5l-.94 2.06-2.06.94zm10 10l.94 2.06.94-2.06 2.06-.94-2.06-.94-.94-2.06-.94 2.06-2.06.94z\"/><path d=\"M17.41 7.96l-1.37-1.37c-.4-.4-.92-.59-1.43-.59-.52 0-1.04.2-1.43.59L10.3 9.45l-7.72 7.72c-.78.78-.78 2.05 0 2.83L4 21.41c.39.39.9.59 1.41.59.51 0 1.02-.2 1.41-.59l7.78-7.78 2.81-2.81c.8-.78.8-2.07 0-2.86zM5.41 20L4 18.59l7.72-7.72 1.47 1.35L5.41 20z\"/>\n",
              "  </svg>\n",
              "      </button>\n",
              "      \n",
              "  <style>\n",
              "    .colab-df-container {\n",
              "      display:flex;\n",
              "      flex-wrap:wrap;\n",
              "      gap: 12px;\n",
              "    }\n",
              "\n",
              "    .colab-df-convert {\n",
              "      background-color: #E8F0FE;\n",
              "      border: none;\n",
              "      border-radius: 50%;\n",
              "      cursor: pointer;\n",
              "      display: none;\n",
              "      fill: #1967D2;\n",
              "      height: 32px;\n",
              "      padding: 0 0 0 0;\n",
              "      width: 32px;\n",
              "    }\n",
              "\n",
              "    .colab-df-convert:hover {\n",
              "      background-color: #E2EBFA;\n",
              "      box-shadow: 0px 1px 2px rgba(60, 64, 67, 0.3), 0px 1px 3px 1px rgba(60, 64, 67, 0.15);\n",
              "      fill: #174EA6;\n",
              "    }\n",
              "\n",
              "    [theme=dark] .colab-df-convert {\n",
              "      background-color: #3B4455;\n",
              "      fill: #D2E3FC;\n",
              "    }\n",
              "\n",
              "    [theme=dark] .colab-df-convert:hover {\n",
              "      background-color: #434B5C;\n",
              "      box-shadow: 0px 1px 3px 1px rgba(0, 0, 0, 0.15);\n",
              "      filter: drop-shadow(0px 1px 2px rgba(0, 0, 0, 0.3));\n",
              "      fill: #FFFFFF;\n",
              "    }\n",
              "  </style>\n",
              "\n",
              "      <script>\n",
              "        const buttonEl =\n",
              "          document.querySelector('#df-a60053f3-46f0-4963-97cd-25910e899362 button.colab-df-convert');\n",
              "        buttonEl.style.display =\n",
              "          google.colab.kernel.accessAllowed ? 'block' : 'none';\n",
              "\n",
              "        async function convertToInteractive(key) {\n",
              "          const element = document.querySelector('#df-a60053f3-46f0-4963-97cd-25910e899362');\n",
              "          const dataTable =\n",
              "            await google.colab.kernel.invokeFunction('convertToInteractive',\n",
              "                                                     [key], {});\n",
              "          if (!dataTable) return;\n",
              "\n",
              "          const docLinkHtml = 'Like what you see? Visit the ' +\n",
              "            '<a target=\"_blank\" href=https://colab.research.google.com/notebooks/data_table.ipynb>data table notebook</a>'\n",
              "            + ' to learn more about interactive tables.';\n",
              "          element.innerHTML = '';\n",
              "          dataTable['output_type'] = 'display_data';\n",
              "          await google.colab.output.renderOutput(dataTable, element);\n",
              "          const docLink = document.createElement('div');\n",
              "          docLink.innerHTML = docLinkHtml;\n",
              "          element.appendChild(docLink);\n",
              "        }\n",
              "      </script>\n",
              "    </div>\n",
              "  </div>\n",
              "  "
            ]
          },
          "metadata": {},
          "execution_count": 410
        }
      ]
    },
    {
      "cell_type": "code",
      "source": [
        "df5[df5.restaurant_id == 792].criteria[1]"
      ],
      "metadata": {
        "colab": {
          "base_uri": "https://localhost:8080/",
          "height": 105
        },
        "id": "BHZBNBt4-Dqj",
        "outputId": "2d7a395f-b066-474c-861c-1da5abf31eb9"
      },
      "execution_count": 359,
      "outputs": [
        {
          "output_type": "execute_result",
          "data": {
            "text/plain": [
              "'[\\'Offre : Cocktails et apéritifs\\', \\'Paiements : Paiements mobiles NFC\\', \\'Services : Toilettes\\', \\'Paiements : Cartes de paiement\\', \\'Offre : Plats végétaliens\\', \\'Services de restauration : Dîner\\', \\'Ambiance : Décontracté\\', \\'Services de restauration : Brunch\\', \\'Paiements : Cartes de crédit\\', \\'Services : Bar disponible sur place\\', \\'Services de restauration : Places assises\\', \\'Offre : Bière\\', \\'Services : Chaises hautes\\', \\'Offre : Convient aux végétariens\\', \\'Accessibilité : Entrée accessible en fauteuil roulant\\', \\'Services de restauration : Petit déjeuner\\', \\'Services disponibles : Repas sur place\\', \\'Services de restauration : Desserts\\', \\'Services : Convient aux enfants\\', \\'Accessibilité : Parking accessible en fauteuil roulant\\', \\'Offre : Spiritueux\\', \\'Offre : Vin\\', \\'Services de restauration : Traiteur\\', \\'Services disponibles : Livraison\\', \\'Services disponibles : Terrasse\\', \\'Offre : Service de restauration ouvert tard en soirée\\', \\'Offre : Remises \"happy hour\" sur les boissons\\', \\'Offre : Alcools\\', \\'Services de restauration : Déjeuner\\', \\'Accessibilité : Places assises accessibles en fauteuil roulant\\', \\'Ambiance : Chaleureux\\', \\'Clientèle : Groupes\\', \\'Offre : Cafés\\', \\'Services disponibles : Vente à emporter\\', \\'Offre : Petites portions à partager\\']'"
            ],
            "application/vnd.google.colaboratory.intrinsic+json": {
              "type": "string"
            }
          },
          "metadata": {},
          "execution_count": 359
        }
      ]
    },
    {
      "cell_type": "code",
      "source": [
        "df5[df5.restaurant_id == 792].kpe_list[1]"
      ],
      "metadata": {
        "colab": {
          "base_uri": "https://localhost:8080/"
        },
        "id": "q8Jtq71o0cih",
        "outputId": "efa89028-9082-4478-afde-0f306b93af4f"
      },
      "execution_count": 351,
      "outputs": [
        {
          "output_type": "execute_result",
          "data": {
            "text/plain": [
              "[(0, \"['1. Service professionnel et rapide'\"),\n",
              " (1, \" ' . Pizza de qualité'\"),\n",
              " (2, \" ' . Prix raisonnables'\"),\n",
              " (3, \" ' . Très bonne sélection de bières'\"),\n",
              " (4, \" ' . Ambiance agréable'\"),\n",
              " (5, \" ' . Emplacement pratique'\"),\n",
              " (6, \" ' . Personnel aimable et serviable'\"),\n",
              " (7, \" ' . Options adaptées aux régimes alimentaires spécifiques'\"),\n",
              " (8, \" ' . Choix variés dans les plats'\"),\n",
              " (9, \" ' 0. Décor accueillant et confortable.']\"),\n",
              " (0, \"['1'\"),\n",
              " (1, \" ' Ambiance conviviale'\"),\n",
              " (2, \" '  '\"),\n",
              " (3, \" ' Variete des plats offerts'\"),\n",
              " (4, \" '  '\"),\n",
              " (5, \" ' Qualite des plats offerts'\"),\n",
              " (6, \" '  '\"),\n",
              " (7, \" ' Prix raisonnables'\"),\n",
              " (8, \" '  '\"),\n",
              " (9, \" ' Service rapide et attentionne'\"),\n",
              " (10, \" '  '\"),\n",
              " (11, \" ' Personnels sympathiques'\"),\n",
              " (12, \" '  '\"),\n",
              " (13, \" ' Agencement adequat'\"),\n",
              " (14, \" '  '\"),\n",
              " (15, \" ' Endroit propre et presentable'\"),\n",
              " (16, \" '  '\"),\n",
              " (17, \" ' Menus saisonniers interessants.']\"),\n",
              " (0, \"['1. Une ambiance agréable et chaleureuse '\"),\n",
              " (1, \" '  . Des plats délicieux et respectant bien la tradition culinaire '\"),\n",
              " (2, \" '  . Un personnel accueillant et serviable '\"),\n",
              " (3, \" '  . Des tarifs abordables '\"),\n",
              " (4, \" '  . Une carte variée et intéressante '\"),\n",
              " (5, \" '  . Une décoration originale et soignée '\"),\n",
              " (6, \" '  . Des menus variés offrant une bonne sélection de plats '\"),\n",
              " (7, \" '  . Un bon équilibre entre le prix et la qualité des produits '\"),\n",
              " (8, \" '  . Des plats bien présentés et très frais '\"),\n",
              " (9, \" '  0. Une atmosphère conviviale.']\"),\n",
              " (0, \"['1. Prix honnêtes '\"),\n",
              " (1, \" '  . Carte divertissante\"),\n",
              " (2, \" avec des noms originaux et des petits bisous à Shrek '\"),\n",
              " (3, \" '  . Bon repas '\"),\n",
              " (4, \" '  . Dîner amusant et original sur une balançoire.']\"),\n",
              " (0, '[\"(c\\'est à dire sans argument d\\'ordre personnel) \"'),\n",
              " (1, \" ' Très bonne nourriture et pizzas'\"),\n",
              " (2, \" '  '\"),\n",
              " (3, \" ' Recommandé'\"),\n",
              " (4, \" '  '\"),\n",
              " (5, \" ' Convives ne sont pas invités à prendre les tables.']\"),\n",
              " (0, \"['1.'\"),\n",
              " (1, \" ' Une ambiance divertissante '\"),\n",
              " (2, \" ' Des pizzas à la hauteur des attentes '\"),\n",
              " (3, \" ' Des prix raisonnables '\"),\n",
              " (4, \" ' Une cuisine fraîche et délicieuse '\"),\n",
              " (5, \" ' Une variété de pizzas disponibles '\"),\n",
              " (6, \" ' Un service rapide et efficace '\"),\n",
              " (7, \" ' Des ingrédients de haute qualité '\"),\n",
              " (8, \" ' Des options de commande à emporter '\"),\n",
              " (9, \" ' Des options végétariennes disponibles '\"),\n",
              " (10, \" '']\"),\n",
              " (0, \"[':-service très rapide'\"),\n",
              " (1, \" '-personnel sympathique'\"),\n",
              " (2, \" '-plats délicieux'\"),\n",
              " (3, \" '-grande variété de plats'\"),\n",
              " (4, \" '-bonne qualité des plats'\"),\n",
              " (5, \" '-rapport qualité / prix satisfaisant'\"),\n",
              " (6, \" '-ambiance agréable'\"),\n",
              " (7, \" '-espace spacieux'\"),\n",
              " (8, \" '-emplacement central.']\"),\n",
              " (0, \"['1'\"),\n",
              " (1, \" ' Belle déco'\"),\n",
              " (2, \" ' 2'\"),\n",
              " (3, \" ' Foccacia et pizzas délicieuses'\"),\n",
              " (4, \" ' 3'\"),\n",
              " (5, \" ' Pâte à pizza incroyable'\"),\n",
              " (6, \" ' 4'\"),\n",
              " (7, \" ' Service au top'\"),\n",
              " (8, \" ' 5'\"),\n",
              " (9, \" ' Bonne ambiance'\"),\n",
              " (10, \" ' 6'\"),\n",
              " (11, \" ' Happy Hours'\"),\n",
              " (12, \" ' 7'\"),\n",
              " (13, \" ' Afterwork et dîner'\"),\n",
              " (14, \" '']\"),\n",
              " (0, \"['1. Ambiance très agréable '\"),\n",
              " (1, \" '  . Service très rapide '\"),\n",
              " (2, \" '  . Délicieux plats '\"),\n",
              " (3, \" '  . Prix abordables '\"),\n",
              " (4, \" '  . Service professionnel et amical '\"),\n",
              " (5, \" '  . Décor magnifique '\"),\n",
              " (6, \" '  . Une variété de boissons et de plats délicieux.']\")]"
            ]
          },
          "metadata": {},
          "execution_count": 351
        }
      ]
    },
    {
      "cell_type": "code",
      "source": [
        "for keyphrase_extract_review in zip(df3[df3.restaurant_id == 792].keyphrase_extract_review):\n",
        "  print(keyphrase_extract_review)"
      ],
      "metadata": {
        "colab": {
          "base_uri": "https://localhost:8080/"
        },
        "id": "RqmRcT9by0gX",
        "outputId": "164cd89e-43a7-4223-8777-7deb2b4fa0cc"
      },
      "execution_count": 352,
      "outputs": [
        {
          "output_type": "stream",
          "name": "stdout",
          "text": [
            "(\"['1. Service professionnel et rapide', ' . Pizza de qualité', ' . Prix raisonnables', ' . Très bonne sélection de bières', ' . Ambiance agréable', ' . Emplacement pratique', ' . Personnel aimable et serviable', ' . Options adaptées aux régimes alimentaires spécifiques', ' . Choix variés dans les plats', ' 0. Décor accueillant et confortable.']\",)\n",
            "(\"['1', ' Ambiance conviviale', '  ', ' Variete des plats offerts', '  ', ' Qualite des plats offerts', '  ', ' Prix raisonnables', '  ', ' Service rapide et attentionne', '  ', ' Personnels sympathiques', '  ', ' Agencement adequat', '  ', ' Endroit propre et presentable', '  ', ' Menus saisonniers interessants.']\",)\n",
            "(\"['1. Une ambiance agréable et chaleureuse ', '  . Des plats délicieux et respectant bien la tradition culinaire ', '  . Un personnel accueillant et serviable ', '  . Des tarifs abordables ', '  . Une carte variée et intéressante ', '  . Une décoration originale et soignée ', '  . Des menus variés offrant une bonne sélection de plats ', '  . Un bon équilibre entre le prix et la qualité des produits ', '  . Des plats bien présentés et très frais ', '  0. Une atmosphère conviviale.']\",)\n",
            "(\"['1. Prix honnêtes ', '  . Carte divertissante, avec des noms originaux et des petits bisous à Shrek ', '  . Bon repas ', '  . Dîner amusant et original sur une balançoire.']\",)\n",
            "('[\"(c\\'est à dire sans argument d\\'ordre personnel) \", \\' Très bonne nourriture et pizzas\\', \\'  \\', \\' Recommandé\\', \\'  \\', \\' Convives ne sont pas invités à prendre les tables.\\']',)\n",
            "(\"['1.', ' Une ambiance divertissante ', ' Des pizzas à la hauteur des attentes ', ' Des prix raisonnables ', ' Une cuisine fraîche et délicieuse ', ' Une variété de pizzas disponibles ', ' Un service rapide et efficace ', ' Des ingrédients de haute qualité ', ' Des options de commande à emporter ', ' Des options végétariennes disponibles ', '']\",)\n",
            "(\"[':-service très rapide', '-personnel sympathique', '-plats délicieux', '-grande variété de plats', '-bonne qualité des plats', '-rapport qualité / prix satisfaisant', '-ambiance agréable', '-espace spacieux', '-emplacement central.']\",)\n",
            "(\"['1', ' Belle déco', ' 2', ' Foccacia et pizzas délicieuses', ' 3', ' Pâte à pizza incroyable', ' 4', ' Service au top', ' 5', ' Bonne ambiance', ' 6', ' Happy Hours', ' 7', ' Afterwork et dîner', '']\",)\n",
            "(\"['1. Ambiance très agréable ', '  . Service très rapide ', '  . Délicieux plats ', '  . Prix abordables ', '  . Service professionnel et amical ', '  . Décor magnifique ', '  . Une variété de boissons et de plats délicieux.']\",)\n"
          ]
        }
      ]
    },
    {
      "cell_type": "code",
      "source": [
        "type(kpe_list)"
      ],
      "metadata": {
        "colab": {
          "base_uri": "https://localhost:8080/"
        },
        "id": "d6c2iThYzSzV",
        "outputId": "8a3a70f5-b519-4439-f619-5821f2593ac9"
      },
      "execution_count": 271,
      "outputs": [
        {
          "output_type": "execute_result",
          "data": {
            "text/plain": [
              "list"
            ]
          },
          "metadata": {},
          "execution_count": 271
        }
      ]
    },
    {
      "cell_type": "code",
      "source": [
        "df5"
      ],
      "metadata": {
        "colab": {
          "base_uri": "https://localhost:8080/",
          "height": 520
        },
        "id": "CkGdxQqmz1hM",
        "outputId": "6f428ade-9c83-42c6-a271-000cf02d6007"
      },
      "execution_count": 272,
      "outputs": [
        {
          "output_type": "execute_result",
          "data": {
            "text/plain": [
              "    restaurant_id                                           criteria\n",
              "0             835  ['Offre : Cocktails et apéritifs', 'Services :...\n",
              "1             792  ['Offre : Cocktails et apéritifs', 'Paiements ...\n",
              "5             774  ['Services de restauration : Places assises', ...\n",
              "6             977  ['Offre : Cocktails et apéritifs', 'Services :...\n",
              "8             744  ['Offre : Cocktails et apéritifs', 'Paiements ...\n",
              "11            805  ['Services disponibles : Livraison sans contac...\n",
              "13            790  ['Offre : Cocktails et apéritifs', 'Paiements ...\n",
              "16            819  ['Offre : Cocktails et apéritifs', 'Services :...\n",
              "21            925  ['Offre : Cocktails et apéritifs', 'Paiements ...\n",
              "24            927  ['Offre : Cocktails et apéritifs', 'Services :...\n",
              "30            906  ['Offre : Plats végétaliens', 'Paiements : Pai...\n",
              "35            912  ['Offre : Cocktails et apéritifs', 'Services d...\n",
              "40            833  ['Points forts : Toit-terrasse', 'Offre : Cock...\n",
              "44            907  ['Offre : Cocktails et apéritifs', 'Services d...\n",
              "45            985  ['Paiements : Paiements mobiles NFC', 'Offre :..."
            ],
            "text/html": [
              "\n",
              "  <div id=\"df-2b34b29e-a5ae-47fa-b3b5-72801fb95c33\">\n",
              "    <div class=\"colab-df-container\">\n",
              "      <div>\n",
              "<style scoped>\n",
              "    .dataframe tbody tr th:only-of-type {\n",
              "        vertical-align: middle;\n",
              "    }\n",
              "\n",
              "    .dataframe tbody tr th {\n",
              "        vertical-align: top;\n",
              "    }\n",
              "\n",
              "    .dataframe thead th {\n",
              "        text-align: right;\n",
              "    }\n",
              "</style>\n",
              "<table border=\"1\" class=\"dataframe\">\n",
              "  <thead>\n",
              "    <tr style=\"text-align: right;\">\n",
              "      <th></th>\n",
              "      <th>restaurant_id</th>\n",
              "      <th>criteria</th>\n",
              "    </tr>\n",
              "  </thead>\n",
              "  <tbody>\n",
              "    <tr>\n",
              "      <th>0</th>\n",
              "      <td>835</td>\n",
              "      <td>['Offre : Cocktails et apéritifs', 'Services :...</td>\n",
              "    </tr>\n",
              "    <tr>\n",
              "      <th>1</th>\n",
              "      <td>792</td>\n",
              "      <td>['Offre : Cocktails et apéritifs', 'Paiements ...</td>\n",
              "    </tr>\n",
              "    <tr>\n",
              "      <th>5</th>\n",
              "      <td>774</td>\n",
              "      <td>['Services de restauration : Places assises', ...</td>\n",
              "    </tr>\n",
              "    <tr>\n",
              "      <th>6</th>\n",
              "      <td>977</td>\n",
              "      <td>['Offre : Cocktails et apéritifs', 'Services :...</td>\n",
              "    </tr>\n",
              "    <tr>\n",
              "      <th>8</th>\n",
              "      <td>744</td>\n",
              "      <td>['Offre : Cocktails et apéritifs', 'Paiements ...</td>\n",
              "    </tr>\n",
              "    <tr>\n",
              "      <th>11</th>\n",
              "      <td>805</td>\n",
              "      <td>['Services disponibles : Livraison sans contac...</td>\n",
              "    </tr>\n",
              "    <tr>\n",
              "      <th>13</th>\n",
              "      <td>790</td>\n",
              "      <td>['Offre : Cocktails et apéritifs', 'Paiements ...</td>\n",
              "    </tr>\n",
              "    <tr>\n",
              "      <th>16</th>\n",
              "      <td>819</td>\n",
              "      <td>['Offre : Cocktails et apéritifs', 'Services :...</td>\n",
              "    </tr>\n",
              "    <tr>\n",
              "      <th>21</th>\n",
              "      <td>925</td>\n",
              "      <td>['Offre : Cocktails et apéritifs', 'Paiements ...</td>\n",
              "    </tr>\n",
              "    <tr>\n",
              "      <th>24</th>\n",
              "      <td>927</td>\n",
              "      <td>['Offre : Cocktails et apéritifs', 'Services :...</td>\n",
              "    </tr>\n",
              "    <tr>\n",
              "      <th>30</th>\n",
              "      <td>906</td>\n",
              "      <td>['Offre : Plats végétaliens', 'Paiements : Pai...</td>\n",
              "    </tr>\n",
              "    <tr>\n",
              "      <th>35</th>\n",
              "      <td>912</td>\n",
              "      <td>['Offre : Cocktails et apéritifs', 'Services d...</td>\n",
              "    </tr>\n",
              "    <tr>\n",
              "      <th>40</th>\n",
              "      <td>833</td>\n",
              "      <td>['Points forts : Toit-terrasse', 'Offre : Cock...</td>\n",
              "    </tr>\n",
              "    <tr>\n",
              "      <th>44</th>\n",
              "      <td>907</td>\n",
              "      <td>['Offre : Cocktails et apéritifs', 'Services d...</td>\n",
              "    </tr>\n",
              "    <tr>\n",
              "      <th>45</th>\n",
              "      <td>985</td>\n",
              "      <td>['Paiements : Paiements mobiles NFC', 'Offre :...</td>\n",
              "    </tr>\n",
              "  </tbody>\n",
              "</table>\n",
              "</div>\n",
              "      <button class=\"colab-df-convert\" onclick=\"convertToInteractive('df-2b34b29e-a5ae-47fa-b3b5-72801fb95c33')\"\n",
              "              title=\"Convert this dataframe to an interactive table.\"\n",
              "              style=\"display:none;\">\n",
              "        \n",
              "  <svg xmlns=\"http://www.w3.org/2000/svg\" height=\"24px\"viewBox=\"0 0 24 24\"\n",
              "       width=\"24px\">\n",
              "    <path d=\"M0 0h24v24H0V0z\" fill=\"none\"/>\n",
              "    <path d=\"M18.56 5.44l.94 2.06.94-2.06 2.06-.94-2.06-.94-.94-2.06-.94 2.06-2.06.94zm-11 1L8.5 8.5l.94-2.06 2.06-.94-2.06-.94L8.5 2.5l-.94 2.06-2.06.94zm10 10l.94 2.06.94-2.06 2.06-.94-2.06-.94-.94-2.06-.94 2.06-2.06.94z\"/><path d=\"M17.41 7.96l-1.37-1.37c-.4-.4-.92-.59-1.43-.59-.52 0-1.04.2-1.43.59L10.3 9.45l-7.72 7.72c-.78.78-.78 2.05 0 2.83L4 21.41c.39.39.9.59 1.41.59.51 0 1.02-.2 1.41-.59l7.78-7.78 2.81-2.81c.8-.78.8-2.07 0-2.86zM5.41 20L4 18.59l7.72-7.72 1.47 1.35L5.41 20z\"/>\n",
              "  </svg>\n",
              "      </button>\n",
              "      \n",
              "  <style>\n",
              "    .colab-df-container {\n",
              "      display:flex;\n",
              "      flex-wrap:wrap;\n",
              "      gap: 12px;\n",
              "    }\n",
              "\n",
              "    .colab-df-convert {\n",
              "      background-color: #E8F0FE;\n",
              "      border: none;\n",
              "      border-radius: 50%;\n",
              "      cursor: pointer;\n",
              "      display: none;\n",
              "      fill: #1967D2;\n",
              "      height: 32px;\n",
              "      padding: 0 0 0 0;\n",
              "      width: 32px;\n",
              "    }\n",
              "\n",
              "    .colab-df-convert:hover {\n",
              "      background-color: #E2EBFA;\n",
              "      box-shadow: 0px 1px 2px rgba(60, 64, 67, 0.3), 0px 1px 3px 1px rgba(60, 64, 67, 0.15);\n",
              "      fill: #174EA6;\n",
              "    }\n",
              "\n",
              "    [theme=dark] .colab-df-convert {\n",
              "      background-color: #3B4455;\n",
              "      fill: #D2E3FC;\n",
              "    }\n",
              "\n",
              "    [theme=dark] .colab-df-convert:hover {\n",
              "      background-color: #434B5C;\n",
              "      box-shadow: 0px 1px 3px 1px rgba(0, 0, 0, 0.15);\n",
              "      filter: drop-shadow(0px 1px 2px rgba(0, 0, 0, 0.3));\n",
              "      fill: #FFFFFF;\n",
              "    }\n",
              "  </style>\n",
              "\n",
              "      <script>\n",
              "        const buttonEl =\n",
              "          document.querySelector('#df-2b34b29e-a5ae-47fa-b3b5-72801fb95c33 button.colab-df-convert');\n",
              "        buttonEl.style.display =\n",
              "          google.colab.kernel.accessAllowed ? 'block' : 'none';\n",
              "\n",
              "        async function convertToInteractive(key) {\n",
              "          const element = document.querySelector('#df-2b34b29e-a5ae-47fa-b3b5-72801fb95c33');\n",
              "          const dataTable =\n",
              "            await google.colab.kernel.invokeFunction('convertToInteractive',\n",
              "                                                     [key], {});\n",
              "          if (!dataTable) return;\n",
              "\n",
              "          const docLinkHtml = 'Like what you see? Visit the ' +\n",
              "            '<a target=\"_blank\" href=https://colab.research.google.com/notebooks/data_table.ipynb>data table notebook</a>'\n",
              "            + ' to learn more about interactive tables.';\n",
              "          element.innerHTML = '';\n",
              "          dataTable['output_type'] = 'display_data';\n",
              "          await google.colab.output.renderOutput(dataTable, element);\n",
              "          const docLink = document.createElement('div');\n",
              "          docLink.innerHTML = docLinkHtml;\n",
              "          element.appendChild(docLink);\n",
              "        }\n",
              "      </script>\n",
              "    </div>\n",
              "  </div>\n",
              "  "
            ]
          },
          "metadata": {},
          "execution_count": 272
        }
      ]
    },
    {
      "cell_type": "code",
      "source": [
        "def create_criteria_list(df):\n"
      ],
      "metadata": {
        "colab": {
          "base_uri": "https://localhost:8080/",
          "height": 131
        },
        "id": "pzzT4aoWWz8w",
        "outputId": "367992e8-4969-47ce-f978-aeebb4337ad8"
      },
      "execution_count": 153,
      "outputs": [
        {
          "output_type": "error",
          "ename": "SyntaxError",
          "evalue": "ignored",
          "traceback": [
            "\u001b[0;36m  File \u001b[0;32m\"<ipython-input-153-f5d67a786ba3>\"\u001b[0;36m, line \u001b[0;32m9\u001b[0m\n\u001b[0;31m    criteria_list = criteria_list.append(clean_text(criteria)\u001b[0m\n\u001b[0m                                                             ^\u001b[0m\n\u001b[0;31mSyntaxError\u001b[0m\u001b[0;31m:\u001b[0m unexpected EOF while parsing\n"
          ]
        }
      ]
    },
    {
      "cell_type": "code",
      "source": [
        "for id in enumerate(df3.restaurant_id):\n",
        "  for (keyphrase_extract_review, criteria) in zip(df3[df3.restaurant_id == id[1]].keyphrase_extract_review, df3[df3.restaurant_id == id[1]].criteria):\n",
        "    kpe_list = kpe_list.append(clean_text(keyphrase_extract_review))\n",
        "    criteria_list = criteria_list.append(clean_text(criteria))\n",
        "return kpe_list, criteria_list"
      ],
      "metadata": {
        "colab": {
          "base_uri": "https://localhost:8080/"
        },
        "id": "1nz5xIM1V_Lr",
        "outputId": "a7db6c53-2ce2-4595-ac91-fdad28c25d16"
      },
      "execution_count": 139,
      "outputs": [
        {
          "output_type": "execute_result",
          "data": {
            "text/plain": [
              "0     ['1. Le service est rapide et amical', ' . La ...\n",
              "2     ['1.Cuisine italienne généreuse', '  .Personne...\n",
              "9     ['1. Un service excellent', ' . Nourriture exc...\n",
              "29    ['1. Ambiance agréable', '  . Cuisine apprécié...\n",
              "36                                       ['Excellent!']\n",
              "49    ['1. Excellente qualité des produits', '  . Pl...\n",
              "Name: keyphrase_extract_review, dtype: object"
            ]
          },
          "metadata": {},
          "execution_count": 139
        }
      ]
    },
    {
      "cell_type": "code",
      "source": [
        "df = review_summary\n",
        "df2 = mapping_restaurant_review_criteriaNotNull\n",
        "df3 = df.merge(df2, on='review_id', how='left')\n",
        "kpe_list = []\n",
        "criteria_list = []\n",
        "\n",
        "for i, id in enumerate(df3.restaurant_id):\n",
        "  for (keyphrase_extract_review, criteria) in zip(df3[df3.restaurant_id == id].keyphrase_extract_review, df3[df3.restaurant_id == id].criteria):\n",
        "    kpe_list.append(clean_text(keyphrase_extract_review))  \n",
        "    #criteria_list = criteria_list.append(clean_text(criteria))"
      ],
      "metadata": {
        "id": "IW4YJknWDp9f"
      },
      "execution_count": 175,
      "outputs": []
    },
    {
      "cell_type": "code",
      "source": [
        "id = 835\n",
        "kpe_list = []\n",
        "for (keyphrase_extract_review, criteria) in zip(df3[df3.restaurant_id == id].keyphrase_extract_review, df3[df3.restaurant_id == id].criteria):\n",
        "  kpe_list.append(clean_text(keyphrase_extract_review))  \n",
        "  #criteria_list = criteria_list.append(clean_text(criteria))"
      ],
      "metadata": {
        "id": "TNZtfuXtv1J3"
      },
      "execution_count": 182,
      "outputs": []
    },
    {
      "cell_type": "code",
      "source": [
        "kpe_list"
      ],
      "metadata": {
        "colab": {
          "base_uri": "https://localhost:8080/"
        },
        "id": "8kexqATdDqBN",
        "outputId": "c38aee4e-b436-45cc-cfc8-f75f2e3cfee6"
      },
      "execution_count": 184,
      "outputs": [
        {
          "output_type": "execute_result",
          "data": {
            "text/plain": [
              "[['[ 1 service rapide amical ',\n",
              "  ' . qualité pizzas excellente ',\n",
              "  ' . atmosphère amusante ',\n",
              "  ' . Grande variété pizzas ',\n",
              "  ' . Reservation recommandée   ]'],\n",
              " ['[ 1.Cuisine italienne généreuse ',\n",
              "  '   .Personnel agréable disponible rush ',\n",
              "  ' .Lieu agréable   ]'],\n",
              " ['[ 1 service excellent ',\n",
              "  ' . Nourriture excellente ',\n",
              "  ' . Sentir maison ',\n",
              "  ' . Pizza napolitaine ',\n",
              "  ' . Pâtes carbonara   ]'],\n",
              " ['[ 1 Ambiance agréable ',\n",
              "  '   Cuisine appréciée ',\n",
              "  ' . Cadre confortable ',\n",
              "  '   Personnel sympathique ',\n",
              "  ' . Plats variés copieux   ]'],\n",
              " ['[ Excellent   ]'],\n",
              " ['[ 1 Excellente qualité produits ',\n",
              "  '   Plat abondant quantité bien présenté ',\n",
              "  '   Excellent rapport qualité prix ',\n",
              "  '   Ambiance agréable atmosphère chaleureuse ',\n",
              "  '   Professionnalisme employés ',\n",
              "  '   Equipe souriante serviable ',\n",
              "  '   Excellent service clientèle ',\n",
              "  '   Bonne variété plats ',\n",
              "  '   Vins qualité exceptionnelle ',\n",
              "  '   . Table bien placée joliment présentée   ]']]"
            ]
          },
          "metadata": {},
          "execution_count": 184
        }
      ]
    },
    {
      "cell_type": "code",
      "source": [
        "\"\"\"\n",
        "avis positif du restaurant : proche du centre ville. Burger tres bon. le patron est super sympa. service tres rapide pour le diner. allergene bien indiqué\n",
        "avis négatif du restaurant : le restaurant est trop petit. le restaurant n'est pas adapté au handicapé. \n",
        "avis sur les plats : plat végétarien proposé. salade est sublime. les pates sont super. le gateau à la fraise n'est vraiment pas bon\n",
        "services disponible du restaurant : \n",
        "\"\"\""
      ],
      "metadata": {
        "id": "8S_3k-3YDqGG"
      },
      "execution_count": null,
      "outputs": []
    }
  ]
}